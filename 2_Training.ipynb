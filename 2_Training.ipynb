{
 "cells": [
  {
   "cell_type": "markdown",
   "metadata": {},
   "source": [
    "# Computer Vision Nanodegree\n",
    "\n",
    "## Project: Image Captioning\n",
    "\n",
    "---\n",
    "\n",
    "In this notebook, you will train your CNN-RNN model.  \n",
    "\n",
    "You are welcome and encouraged to try out many different architectures and hyperparameters when searching for a good model.\n",
    "\n",
    "This does have the potential to make the project quite messy!  Before submitting your project, make sure that you clean up:\n",
    "- the code you write in this notebook.  The notebook should describe how to train a single CNN-RNN architecture, corresponding to your final choice of hyperparameters.  You should structure the notebook so that the reviewer can replicate your results by running the code in this notebook.  \n",
    "- the output of the code cell in **Step 2**.  The output should show the output obtained when training the model from scratch.\n",
    "\n",
    "This notebook **will be graded**.  \n",
    "\n",
    "Feel free to use the links below to navigate the notebook:\n",
    "- [Step 1](#step1): Training Setup\n",
    "- [Step 2](#step2): Train your Model\n",
    "- [Step 3](#step3): (Optional) Validate your Model"
   ]
  },
  {
   "cell_type": "code",
   "execution_count": 1,
   "metadata": {},
   "outputs": [
    {
     "name": "stdout",
     "output_type": "stream",
     "text": [
      "Collecting pycocotools\n",
      "  Downloading https://files.pythonhosted.org/packages/de/df/056875d697c45182ed6d2ae21f62015896fdb841906fe48e7268e791c467/pycocotools-2.0.2.tar.gz\n",
      "Requirement already satisfied: setuptools>=18.0 in /opt/conda/lib/python3.6/site-packages (from pycocotools) (38.4.0)\n",
      "Requirement already satisfied: cython>=0.27.3 in /opt/conda/lib/python3.6/site-packages (from pycocotools) (0.29.7)\n",
      "Requirement already satisfied: matplotlib>=2.1.0 in /opt/conda/lib/python3.6/site-packages (from pycocotools) (2.1.0)\n",
      "Requirement already satisfied: numpy>=1.7.1 in /opt/conda/lib/python3.6/site-packages (from matplotlib>=2.1.0->pycocotools) (1.12.1)\n",
      "Requirement already satisfied: six>=1.10 in /opt/conda/lib/python3.6/site-packages (from matplotlib>=2.1.0->pycocotools) (1.11.0)\n",
      "Requirement already satisfied: python-dateutil>=2.0 in /opt/conda/lib/python3.6/site-packages (from matplotlib>=2.1.0->pycocotools) (2.6.1)\n",
      "Requirement already satisfied: pytz in /opt/conda/lib/python3.6/site-packages (from matplotlib>=2.1.0->pycocotools) (2017.3)\n",
      "Requirement already satisfied: cycler>=0.10 in /opt/conda/lib/python3.6/site-packages/cycler-0.10.0-py3.6.egg (from matplotlib>=2.1.0->pycocotools) (0.10.0)\n",
      "Requirement already satisfied: pyparsing!=2.0.4,!=2.1.2,!=2.1.6,>=2.0.1 in /opt/conda/lib/python3.6/site-packages (from matplotlib>=2.1.0->pycocotools) (2.2.0)\n",
      "Building wheels for collected packages: pycocotools\n",
      "  Running setup.py bdist_wheel for pycocotools ... \u001b[?25ldone\n",
      "\u001b[?25h  Stored in directory: /root/.cache/pip/wheels/68/a5/e7/56401832f23d0b2db351c5b682e466cb4841960b086da65e4e\n",
      "Successfully built pycocotools\n",
      "Installing collected packages: pycocotools\n",
      "Successfully installed pycocotools-2.0.2\n",
      "[nltk_data] Downloading package punkt to /root/nltk_data...\n",
      "[nltk_data]   Unzipping tokenizers/punkt.zip.\n"
     ]
    },
    {
     "data": {
      "text/plain": [
       "True"
      ]
     },
     "execution_count": 1,
     "metadata": {},
     "output_type": "execute_result"
    }
   ],
   "source": [
    "!pip install pycocotools\n",
    "import nltk\n",
    "nltk.download('punkt')"
   ]
  },
  {
   "cell_type": "markdown",
   "metadata": {},
   "source": [
    "<a id='step1'></a>\n",
    "## Step 1: Training Setup\n",
    "\n",
    "In this step of the notebook, you will customize the training of your CNN-RNN model by specifying hyperparameters and setting other options that are important to the training procedure.  The values you set now will be used when training your model in **Step 2** below.\n",
    "\n",
    "You should only amend blocks of code that are preceded by a `TODO` statement.  **Any code blocks that are not preceded by a `TODO` statement should not be modified**.\n",
    "\n",
    "### Task #1\n",
    "\n",
    "Begin by setting the following variables:\n",
    "- `batch_size` - the batch size of each training batch.  It is the number of image-caption pairs used to amend the model weights in each training step. \n",
    "- `vocab_threshold` - the minimum word count threshold.  Note that a larger threshold will result in a smaller vocabulary, whereas a smaller threshold will include rarer words and result in a larger vocabulary.  \n",
    "- `vocab_from_file` - a Boolean that decides whether to load the vocabulary from file. \n",
    "- `embed_size` - the dimensionality of the image and word embeddings.  \n",
    "- `hidden_size` - the number of features in the hidden state of the RNN decoder.  \n",
    "- `num_epochs` - the number of epochs to train the model.  We recommend that you set `num_epochs=3`, but feel free to increase or decrease this number as you wish.  [This paper](https://arxiv.org/pdf/1502.03044.pdf) trained a captioning model on a single state-of-the-art GPU for 3 days, but you'll soon see that you can get reasonable results in a matter of a few hours!  (_But of course, if you want your model to compete with current research, you will have to train for much longer._)\n",
    "- `save_every` - determines how often to save the model weights.  We recommend that you set `save_every=1`, to save the model weights after each epoch.  This way, after the `i`th epoch, the encoder and decoder weights will be saved in the `models/` folder as `encoder-i.pkl` and `decoder-i.pkl`, respectively.\n",
    "- `print_every` - determines how often to print the batch loss to the Jupyter notebook while training.  Note that you **will not** observe a monotonic decrease in the loss function while training - this is perfectly fine and completely expected!  You are encouraged to keep this at its default value of `100` to avoid clogging the notebook, but feel free to change it.\n",
    "- `log_file` - the name of the text file containing - for every step - how the loss and perplexity evolved during training.\n",
    "\n",
    "If you're not sure where to begin to set some of the values above, you can peruse [this paper](https://arxiv.org/pdf/1502.03044.pdf) and [this paper](https://arxiv.org/pdf/1411.4555.pdf) for useful guidance!  **To avoid spending too long on this notebook**, you are encouraged to consult these suggested research papers to obtain a strong initial guess for which hyperparameters are likely to work best.  Then, train a single model, and proceed to the next notebook (**3_Inference.ipynb**).  If you are unhappy with your performance, you can return to this notebook to tweak the hyperparameters (and/or the architecture in **model.py**) and re-train your model.\n",
    "\n",
    "### Question 1\n",
    "\n",
    "**Question:** Describe your CNN-RNN architecture in detail.  With this architecture in mind, how did you select the values of the variables in Task 1?  If you consulted a research paper detailing a successful implementation of an image captioning model, please provide the reference.\n",
    "\n",
    "**Answer:** For **CNN** i've used provider architecture as it is using state-of-the-art `resnet50` architecture.\n",
    "<br>\n",
    "For **RNN** following \n",
    "- `batch_size=128` - For batch_size i've used 128 as i'm using GPU and 128 seems faster as compared to 64 which is also tested. \n",
    "- `vocab_threshold=7` - I've used 7 as it giving reasonable amount of vocab size without loosing so many words as also removing very rare words. I've tested 5, 6, 8 but decided to stick with 7.\n",
    "- `vocab_from_file=True` - As it was recommended and time saving.\n",
    "- `embed_size=256` - I've used 256 becuase it is giving slightly good results which respect to 300 and 500. But this slightly better result making more sense when considering small size and it is nearly half of 500 and giving better results.  \n",
    "- `hidden_size=128` - I've used 128 as it is recommended we should not increase much as compared to nn.Linear becuase LSTM is capable of learning with fewer hidden cell and starts to overfit as we increase and this number is also giving good result when compared to 64, 256, etc.\n",
    "- `num_epochs=1, 2` - For epoch i've trained model in two part at first i only trained it for 1 epoch and in other part trained it for 2 epoch with loading previous epoch weights.\n",
    "- `save_every=1` - I did'nt change this. \n",
    "- `print_every=100` - I sticked with default value.\n",
    "- `log_file` - Default Value.\n",
    "\n",
    "\n",
    "### (Optional) Task #2\n",
    "\n",
    "Note that we have provided a recommended image transform `transform_train` for pre-processing the training images, but you are welcome (and encouraged!) to modify it as you wish.  When modifying this transform, keep in mind that:\n",
    "- the images in the dataset have varying heights and widths, and \n",
    "- if using a pre-trained model, you must perform the corresponding appropriate normalization.\n",
    "\n",
    "### Question 2\n",
    "\n",
    "**Question:** How did you select the transform in `transform_train`?  If you left the transform at its provided value, why do you think that it is a good choice for your CNN architecture?\n",
    "\n",
    "**Answer:** i've used provided value for `transform_train` for the following reasons\n",
    "- `Resize(256)` which is just resizing the given image in 256x256.\n",
    "- `RandomCrop(224)` here 224 is not any random value, we are using `resent50` as encoder network which accepts 224x224x3 image size.\n",
    "- `RandomHorizontalFlip()` It is just doing augmentation by randomly flipping image at horizontal axis. I don't think we can use `RandomVarticalFlip()` because it can affect caption as it was even sometime hard for human to say by seeing downward image.\n",
    "- `Normalize((0.485, 0.456, 0.406), (0.229, 0.224, 0.225))` These value-set are also some magical number to normalize the image, first value-set `(0.485, 0.456, 0.406)` is mean values (we are using 3d array for image that's why there is 3 values for each channel(RGB)) and second value-set `(0.229, 0.224, 0.225)` is standard deviations.\n",
    "\n",
    "### Task #3\n",
    "\n",
    "Next, you will specify a Python list containing the learnable parameters of the model.  For instance, if you decide to make all weights in the decoder trainable, but only want to train the weights in the embedding layer of the encoder, then you should set `params` to something like:\n",
    "```\n",
    "params = list(decoder.parameters()) + list(encoder.embed.parameters()) \n",
    "```\n",
    "\n",
    "### Question 3\n",
    "\n",
    "**Question:** How did you select the trainable parameters of your architecture?  Why do you think this is a good choice?\n",
    "\n",
    "**Answer:** As i've used provived CNN encoder which is using resnet+embedding(nn.Linear layer) where resnet is pretrained so i used following (which also suggested above).\n",
    "```\n",
    "params = list(decoder.parameters()) + list(encoder.embed.parameters()) \n",
    "```\n",
    "\n",
    "### Task #4\n",
    "\n",
    "Finally, you will select an [optimizer](http://pytorch.org/docs/master/optim.html#torch.optim.Optimizer).\n",
    "\n",
    "### Question 4\n",
    "\n",
    "**Question:** How did you select the optimizer used to train your model?\n",
    "\n",
    "**Answer:** I've used Adam Optimizer as it was used in [refrenced paper](https://arxiv.org/pdf/1411.4555.pdf) and Adam is good and default choice as optimizer for most tasks."
   ]
  },
  {
   "cell_type": "code",
   "execution_count": 2,
   "metadata": {},
   "outputs": [
    {
     "name": "stdout",
     "output_type": "stream",
     "text": [
      "Vocabulary successfully loaded from vocab.pkl file!\n",
      "loading annotations into memory...\n",
      "Done (t=1.18s)\n",
      "creating index...\n"
     ]
    },
    {
     "name": "stderr",
     "output_type": "stream",
     "text": [
      "  0%|          | 838/414113 [00:00<01:43, 3986.97it/s]"
     ]
    },
    {
     "name": "stdout",
     "output_type": "stream",
     "text": [
      "index created!\n",
      "Obtaining caption lengths...\n"
     ]
    },
    {
     "name": "stderr",
     "output_type": "stream",
     "text": [
      "100%|██████████| 414113/414113 [01:25<00:00, 4829.40it/s]\n",
      "Downloading: \"https://download.pytorch.org/models/resnet50-19c8e357.pth\" to /root/.torch/models/resnet50-19c8e357.pth\n",
      "100%|██████████| 102502400/102502400 [00:01<00:00, 66588382.41it/s]\n",
      "/opt/conda/lib/python3.6/site-packages/torch/nn/modules/rnn.py:38: UserWarning: dropout option adds dropout after all but last recurrent layer, so non-zero dropout expects num_layers greater than 1, but got dropout=0.5 and num_layers=1\n",
      "  \"num_layers={}\".format(dropout, num_layers))\n"
     ]
    }
   ],
   "source": [
    "import torch\n",
    "import torch.nn as nn\n",
    "import torch.optim as optim\n",
    "from torchvision import transforms\n",
    "import sys\n",
    "sys.path.append('/opt/cocoapi/PythonAPI')\n",
    "from pycocotools.coco import COCO\n",
    "from data_loader import get_loader\n",
    "from model import EncoderCNN, DecoderRNN\n",
    "import math\n",
    "\n",
    "\n",
    "## TODO #1: Select appropriate values for the Python variables below.\n",
    "batch_size = 128           # batch size\n",
    "vocab_threshold = 7        # minimum word count threshold\n",
    "vocab_from_file = True     # if True, load existing vocab file\n",
    "embed_size = 256           # dimensionality of image and word embeddings\n",
    "hidden_size = 128          # number of features in hidden state of the RNN decoder\n",
    "num_epochs = 3             # number of training epochs\n",
    "save_every = 1             # determines frequency of saving model weights\n",
    "print_every = 100          # determines window for printing average loss\n",
    "log_file = 'training_log.txt'       # name of file with saved training loss and perplexity\n",
    "\n",
    "# (Optional) TODO #2: Amend the image transform below.\n",
    "transform_train = transforms.Compose([ \n",
    "    transforms.Resize(256),                          # smaller edge of image resized to 256\n",
    "    transforms.RandomCrop(224),                      # get 224x224 crop from random location\n",
    "    transforms.RandomHorizontalFlip(),               # horizontally flip image with probability=0.5\n",
    "    transforms.ToTensor(),                           # convert the PIL Image to a tensor\n",
    "    transforms.Normalize((0.485, 0.456, 0.406),      # normalize image for pre-trained model\n",
    "                         (0.229, 0.224, 0.225))])\n",
    "\n",
    "# Build data loader.\n",
    "data_loader = get_loader(transform=transform_train,\n",
    "                         mode='train',\n",
    "                         batch_size=batch_size,\n",
    "                         vocab_threshold=vocab_threshold,\n",
    "                         vocab_from_file=vocab_from_file)\n",
    "\n",
    "# The size of the vocabulary.\n",
    "vocab_size = len(data_loader.dataset.vocab)\n",
    "\n",
    "# Initialize the encoder and decoder. \n",
    "encoder = EncoderCNN(embed_size)\n",
    "decoder = DecoderRNN(embed_size, hidden_size, vocab_size)\n",
    "\n",
    "# Move models to GPU if CUDA is available. \n",
    "device = torch.device(\"cuda\" if torch.cuda.is_available() else \"cpu\")\n",
    "encoder.to(device)\n",
    "decoder.to(device)\n",
    "\n",
    "# Define the loss function. \n",
    "criterion = nn.CrossEntropyLoss().cuda() if torch.cuda.is_available() else nn.CrossEntropyLoss()\n",
    "\n",
    "# TODO #3: Specify the learnable parameters of the model.\n",
    "params = list(decoder.parameters()) + list(encoder.embed.parameters())\n",
    "\n",
    "# TODO #4: Define the optimizer.\n",
    "optimizer = optim.Adam(params, lr=0.001)\n",
    "\n",
    "# Set the total number of training steps per epoch.\n",
    "total_step = math.ceil(len(data_loader.dataset.caption_lengths) / data_loader.batch_sampler.batch_size)"
   ]
  },
  {
   "cell_type": "markdown",
   "metadata": {},
   "source": [
    "<a id='step2'></a>\n",
    "## Step 2: Train your Model\n",
    "\n",
    "Once you have executed the code cell in **Step 1**, the training procedure below should run without issue.  \n",
    "\n",
    "It is completely fine to leave the code cell below as-is without modifications to train your model.  However, if you would like to modify the code used to train the model below, you must ensure that your changes are easily parsed by your reviewer.  In other words, make sure to provide appropriate comments to describe how your code works!  \n",
    "\n",
    "You may find it useful to load saved weights to resume training.  In that case, note the names of the files containing the encoder and decoder weights that you'd like to load (`encoder_file` and `decoder_file`).  Then you can load the weights by using the lines below:\n",
    "\n",
    "```python\n",
    "# Load pre-trained weights before resuming training.\n",
    "encoder.load_state_dict(torch.load(os.path.join('./models', encoder_file)))\n",
    "decoder.load_state_dict(torch.load(os.path.join('./models', decoder_file)))\n",
    "```\n",
    "\n",
    "While trying out parameters, make sure to take extensive notes and record the settings that you used in your various training runs.  In particular, you don't want to encounter a situation where you've trained a model for several hours but can't remember what settings you used :).\n",
    "\n",
    "### A Note on Tuning Hyperparameters\n",
    "\n",
    "To figure out how well your model is doing, you can look at how the training loss and perplexity evolve during training - and for the purposes of this project, you are encouraged to amend the hyperparameters based on this information.  \n",
    "\n",
    "However, this will not tell you if your model is overfitting to the training data, and, unfortunately, overfitting is a problem that is commonly encountered when training image captioning models.  \n",
    "\n",
    "For this project, you need not worry about overfitting. **This project does not have strict requirements regarding the performance of your model**, and you just need to demonstrate that your model has learned **_something_** when you generate captions on the test data.  For now, we strongly encourage you to train your model for the suggested 3 epochs without worrying about performance; then, you should immediately transition to the next notebook in the sequence (**3_Inference.ipynb**) to see how your model performs on the test data.  If your model needs to be changed, you can come back to this notebook, amend hyperparameters (if necessary), and re-train the model.\n",
    "\n",
    "That said, if you would like to go above and beyond in this project, you can read about some approaches to minimizing overfitting in section 4.3.1 of [this paper](http://ieeexplore.ieee.org/stamp/stamp.jsp?arnumber=7505636).  In the next (optional) step of this notebook, we provide some guidance for assessing the performance on the validation dataset."
   ]
  },
  {
   "cell_type": "code",
   "execution_count": 3,
   "metadata": {},
   "outputs": [],
   "source": [
    "encoder_file = r'encoder-{}.pkl'.format(1)\n",
    "decoder_file = r'decoder-{}.pkl'.format(1)"
   ]
  },
  {
   "cell_type": "code",
   "execution_count": 4,
   "metadata": {},
   "outputs": [
    {
     "name": "stdout",
     "output_type": "stream",
     "text": [
      "Epoch [2/3], Step [100/3236], Loss: 4.4468, Perplexity: 85.35182\n",
      "Epoch [2/3], Step [200/3236], Loss: 3.9563, Perplexity: 52.26230\n",
      "Epoch [2/3], Step [300/3236], Loss: 3.7904, Perplexity: 44.2725\n",
      "Epoch [2/3], Step [400/3236], Loss: 3.3462, Perplexity: 28.39383\n",
      "Epoch [2/3], Step [500/3236], Loss: 3.3588, Perplexity: 28.7547\n",
      "Epoch [2/3], Step [600/3236], Loss: 3.2820, Perplexity: 26.6277\n",
      "Epoch [2/3], Step [700/3236], Loss: 3.1980, Perplexity: 24.48362\n",
      "Epoch [2/3], Step [800/3236], Loss: 3.0541, Perplexity: 21.2021\n",
      "Epoch [2/3], Step [900/3236], Loss: 3.0075, Perplexity: 20.2362\n",
      "Epoch [2/3], Step [1000/3236], Loss: 3.1559, Perplexity: 23.4739\n",
      "Epoch [2/3], Step [1100/3236], Loss: 3.1903, Perplexity: 24.2947\n",
      "Epoch [2/3], Step [1200/3236], Loss: 2.8727, Perplexity: 17.6839\n",
      "Epoch [2/3], Step [1300/3236], Loss: 3.0257, Perplexity: 20.6087\n",
      "Epoch [2/3], Step [1400/3236], Loss: 3.0578, Perplexity: 21.2799\n",
      "Epoch [2/3], Step [1500/3236], Loss: 2.9873, Perplexity: 19.8324\n",
      "Epoch [2/3], Step [1600/3236], Loss: 3.2194, Perplexity: 25.0140\n",
      "Epoch [2/3], Step [1700/3236], Loss: 2.9979, Perplexity: 20.0440\n",
      "Epoch [2/3], Step [1800/3236], Loss: 3.0713, Perplexity: 21.5690\n",
      "Epoch [2/3], Step [1900/3236], Loss: 2.7328, Perplexity: 15.3759\n",
      "Epoch [2/3], Step [2000/3236], Loss: 2.9103, Perplexity: 18.3626\n",
      "Epoch [2/3], Step [2100/3236], Loss: 2.6604, Perplexity: 14.3027\n",
      "Epoch [2/3], Step [2200/3236], Loss: 2.7485, Perplexity: 15.6188\n",
      "Epoch [2/3], Step [2300/3236], Loss: 2.7093, Perplexity: 15.0183\n",
      "Epoch [2/3], Step [2400/3236], Loss: 2.6100, Perplexity: 13.5989\n",
      "Epoch [2/3], Step [2500/3236], Loss: 2.5687, Perplexity: 13.0491\n",
      "Epoch [2/3], Step [2600/3236], Loss: 2.7105, Perplexity: 15.0370\n",
      "Epoch [2/3], Step [2700/3236], Loss: 2.7879, Perplexity: 16.2469\n",
      "Epoch [2/3], Step [2800/3236], Loss: 2.6543, Perplexity: 14.2144\n",
      "Epoch [2/3], Step [2900/3236], Loss: 3.0546, Perplexity: 21.2131\n",
      "Epoch [2/3], Step [3000/3236], Loss: 2.5491, Perplexity: 12.7955\n",
      "Epoch [2/3], Step [3100/3236], Loss: 2.4406, Perplexity: 11.4805\n",
      "Epoch [2/3], Step [3200/3236], Loss: 2.4888, Perplexity: 12.0463\n",
      "Epoch [3/3], Step [100/3236], Loss: 2.6123, Perplexity: 13.63089\n",
      "Epoch [3/3], Step [200/3236], Loss: 2.3735, Perplexity: 10.7348\n",
      "Epoch [3/3], Step [300/3236], Loss: 2.8573, Perplexity: 17.4145\n",
      "Epoch [3/3], Step [400/3236], Loss: 2.3656, Perplexity: 10.6500\n",
      "Epoch [3/3], Step [500/3236], Loss: 2.5281, Perplexity: 12.5291\n",
      "Epoch [3/3], Step [600/3236], Loss: 2.5509, Perplexity: 12.81810\n",
      "Epoch [3/3], Step [700/3236], Loss: 2.5007, Perplexity: 12.1909\n",
      "Epoch [3/3], Step [800/3236], Loss: 2.5338, Perplexity: 12.6013\n",
      "Epoch [3/3], Step [900/3236], Loss: 2.2312, Perplexity: 9.31119\n",
      "Epoch [3/3], Step [1000/3236], Loss: 2.3667, Perplexity: 10.6622\n",
      "Epoch [3/3], Step [1100/3236], Loss: 2.5421, Perplexity: 12.7069\n",
      "Epoch [3/3], Step [1200/3236], Loss: 2.4658, Perplexity: 11.7729\n",
      "Epoch [3/3], Step [1300/3236], Loss: 2.8717, Perplexity: 17.6670\n",
      "Epoch [3/3], Step [1400/3236], Loss: 2.3924, Perplexity: 10.9395\n",
      "Epoch [3/3], Step [1500/3236], Loss: 2.4921, Perplexity: 12.0869\n",
      "Epoch [3/3], Step [1600/3236], Loss: 2.1947, Perplexity: 8.97744\n",
      "Epoch [3/3], Step [1700/3236], Loss: 2.5088, Perplexity: 12.2903\n",
      "Epoch [3/3], Step [1800/3236], Loss: 2.5265, Perplexity: 12.5101\n",
      "Epoch [3/3], Step [1900/3236], Loss: 2.4605, Perplexity: 11.7103\n",
      "Epoch [3/3], Step [2000/3236], Loss: 2.4854, Perplexity: 12.0059\n",
      "Epoch [3/3], Step [2100/3236], Loss: 2.5310, Perplexity: 12.5656\n",
      "Epoch [3/3], Step [2200/3236], Loss: 2.1789, Perplexity: 8.83611\n",
      "Epoch [3/3], Step [2300/3236], Loss: 2.3645, Perplexity: 10.6387\n",
      "Epoch [3/3], Step [2400/3236], Loss: 2.5758, Perplexity: 13.1416\n",
      "Epoch [3/3], Step [2500/3236], Loss: 2.3027, Perplexity: 10.0015\n",
      "Epoch [3/3], Step [2600/3236], Loss: 2.2128, Perplexity: 9.14179\n",
      "Epoch [3/3], Step [2700/3236], Loss: 2.5238, Perplexity: 12.4764\n",
      "Epoch [3/3], Step [2800/3236], Loss: 2.3712, Perplexity: 10.7099\n",
      "Epoch [3/3], Step [2900/3236], Loss: 2.4212, Perplexity: 11.2597\n",
      "Epoch [3/3], Step [3000/3236], Loss: 2.3020, Perplexity: 9.99418\n",
      "Epoch [3/3], Step [3100/3236], Loss: 2.3687, Perplexity: 10.6838\n",
      "Epoch [3/3], Step [3200/3236], Loss: 2.3381, Perplexity: 10.3618\n",
      "Epoch [3/3], Step [3236/3236], Loss: 2.2248, Perplexity: 9.25153"
     ]
    }
   ],
   "source": [
    "import torch.utils.data as data\n",
    "import numpy as np\n",
    "import os\n",
    "import requests\n",
    "import time\n",
    "\n",
    "# Open the training log file.\n",
    "f = open(log_file, 'w')\n",
    "\n",
    "old_time = time.time()\n",
    "response = requests.request(\"GET\", \n",
    "                            \"http://metadata.google.internal/computeMetadata/v1/instance/attributes/keep_alive_token\", \n",
    "                            headers={\"Metadata-Flavor\":\"Google\"})\n",
    "\n",
    "for epoch in range(2, num_epochs+1):\n",
    "    \n",
    "    for i_step in range(1, total_step+1):\n",
    "        \n",
    "        if time.time() - old_time > 60:\n",
    "            old_time = time.time()\n",
    "            requests.request(\"POST\", \n",
    "                             \"https://nebula.udacity.com/api/v1/remote/keep-alive\", \n",
    "                             headers={'Authorization': \"STAR \" + response.text})\n",
    "        \n",
    "        # Randomly sample a caption length, and sample indices with that length.\n",
    "        indices = data_loader.dataset.get_train_indices()\n",
    "        # Create and assign a batch sampler to retrieve a batch with the sampled indices.\n",
    "        new_sampler = data.sampler.SubsetRandomSampler(indices=indices)\n",
    "        data_loader.batch_sampler.sampler = new_sampler\n",
    "        \n",
    "        # Obtain the batch.\n",
    "        images, captions = next(iter(data_loader))\n",
    "\n",
    "        # Move batch of images and captions to GPU if CUDA is available.\n",
    "        images = images.to(device)\n",
    "        captions = captions.to(device)\n",
    "        \n",
    "        # Zero the gradients.\n",
    "        decoder.zero_grad()\n",
    "        encoder.zero_grad()\n",
    "        \n",
    "        # Pass the inputs through the CNN-RNN model.\n",
    "        features = encoder(images)\n",
    "        outputs = decoder(features, captions)\n",
    "        \n",
    "        # Calculate the batch loss.\n",
    "        loss = criterion(outputs.view(-1, vocab_size), captions.view(-1))\n",
    "        \n",
    "        # Backward pass.\n",
    "        loss.backward()\n",
    "        \n",
    "        # Update the parameters in the optimizer.\n",
    "        optimizer.step()\n",
    "            \n",
    "        # Get training statistics.\n",
    "        stats = 'Epoch [%d/%d], Step [%d/%d], Loss: %.4f, Perplexity: %5.4f' % (epoch, num_epochs, i_step, total_step, loss.item(), np.exp(loss.item()))\n",
    "        \n",
    "        # Print training statistics (on same line).\n",
    "        print('\\r' + stats, end=\"\")\n",
    "        sys.stdout.flush()\n",
    "        \n",
    "        # Print training statistics to file.\n",
    "        f.write(stats + '\\n')\n",
    "        f.flush()\n",
    "        \n",
    "        # Print training statistics (on different line).\n",
    "        if i_step % print_every == 0:\n",
    "            print('\\r' + stats)\n",
    "            \n",
    "    # Save the weights.\n",
    "    if epoch % save_every == 0:\n",
    "        model_config = r'[{}, {}, {}]'.format(batch_size, embed_size, hidden_size)\n",
    "        torch.save(decoder.state_dict(), os.path.join('./models', 'decoder-%s_%d.pkl' % (model_config, epoch)))\n",
    "        torch.save(encoder.state_dict(), os.path.join('./models', 'encoder-%s_%d.pkl' % (model_config, epoch)))\n",
    "\n",
    "# Close the training log file.\n",
    "f.close()"
   ]
  },
  {
   "cell_type": "markdown",
   "metadata": {},
   "source": [
    "<a id='step3'></a>\n",
    "## Step 3: (Optional) Validate your Model\n",
    "\n",
    "To assess potential overfitting, one approach is to assess performance on a validation set.  If you decide to do this **optional** task, you are required to first complete all of the steps in the next notebook in the sequence (**3_Inference.ipynb**); as part of that notebook, you will write and test code (specifically, the `sample` method in the `DecoderRNN` class) that uses your RNN decoder to generate captions.  That code will prove incredibly useful here. \n",
    "\n",
    "If you decide to validate your model, please do not edit the data loader in **data_loader.py**.  Instead, create a new file named **data_loader_val.py** containing the code for obtaining the data loader for the validation data.  You can access:\n",
    "- the validation images at filepath `'/opt/cocoapi/images/train2014/'`, and\n",
    "- the validation image caption annotation file at filepath `'/opt/cocoapi/annotations/captions_val2014.json'`.\n",
    "\n",
    "The suggested approach to validating your model involves creating a json file such as [this one](https://github.com/cocodataset/cocoapi/blob/master/results/captions_val2014_fakecap_results.json) containing your model's predicted captions for the validation images.  Then, you can write your own script or use one that you [find online](https://github.com/tylin/coco-caption) to calculate the BLEU score of your model.  You can read more about the BLEU score, along with other evaluation metrics (such as TEOR and Cider) in section 4.1 of [this paper](https://arxiv.org/pdf/1411.4555.pdf).  For more information about how to use the annotation file, check out the [website](http://cocodataset.org/#download) for the COCO dataset."
   ]
  },
  {
   "cell_type": "code",
   "execution_count": 46,
   "metadata": {},
   "outputs": [
    {
     "name": "stdout",
     "output_type": "stream",
     "text": [
      "The autoreload extension is already loaded. To reload it, use:\n",
      "  %reload_ext autoreload\n",
      "Vocabulary successfully loaded from vocab.pkl file!\n",
      "loading annotations into memory...\n"
     ]
    },
    {
     "name": "stderr",
     "output_type": "stream",
     "text": [
      "100%|██████████| 202654/202654 [00:42<00:00, 4817.74it/s]\n"
     ]
    },
    {
     "name": "stdout",
     "output_type": "stream",
     "text": [
      "Done (t=0.38s)\n",
      "creating index...\n",
      "index created!\n",
      "Obtaining caption lengths...\n"
     ]
    }
   ],
   "source": [
    "# (Optional) TODO: Validate your model.\n",
    "\n",
    "# Watch for any changes in model.py, and re-load it automatically.\n",
    "% load_ext autoreload\n",
    "% autoreload 2\n",
    "\n",
    "from pycocotools.coco import COCO\n",
    "from data_loader_val import get_loader\n",
    "from torchvision import transforms\n",
    "\n",
    "transform_val = transforms.Compose([ \n",
    "    transforms.Resize(256),                         \n",
    "    transforms.RandomCrop(224),                    \n",
    "    transforms.ToTensor(),                          \n",
    "    transforms.Normalize((0.485, 0.456, 0.406),      \n",
    "                         (0.229, 0.224, 0.225))])\n",
    "\n",
    "data_loader = get_loader(transform=transform_val,    \n",
    "                         mode='val')"
   ]
  },
  {
   "cell_type": "code",
   "execution_count": 47,
   "metadata": {},
   "outputs": [
    {
     "name": "stderr",
     "output_type": "stream",
     "text": [
      "/opt/conda/lib/python3.6/site-packages/torch/nn/modules/rnn.py:38: UserWarning: dropout option adds dropout after all but last recurrent layer, so non-zero dropout expects num_layers greater than 1, but got dropout=0.5 and num_layers=1\n",
      "  \"num_layers={}\".format(dropout, num_layers))\n"
     ]
    },
    {
     "data": {
      "text/plain": [
       "DecoderRNN(\n",
       "  (embed): Embedding(7525, 256)\n",
       "  (lstm): LSTM(256, 128, batch_first=True, dropout=0.5)\n",
       "  (fc): Linear(in_features=128, out_features=7525, bias=True)\n",
       ")"
      ]
     },
     "execution_count": 47,
     "metadata": {},
     "output_type": "execute_result"
    }
   ],
   "source": [
    "from model import EncoderCNN, DecoderRNN\n",
    "\n",
    "encoder_file = 'encoder-[128, 256, 128]_3.pkl' \n",
    "decoder_file = 'decoder-[128, 256, 128]_3.pkl'\n",
    "\n",
    "embed_size = 256\n",
    "hidden_size = 128\n",
    "\n",
    "# The size of the vocabulary.\n",
    "vocab_size = len(data_loader.dataset.vocab)\n",
    "\n",
    "# Initialize the encoder and decoder, and set each to inference mode.\n",
    "encoder = EncoderCNN(embed_size)\n",
    "encoder.eval()\n",
    "decoder = DecoderRNN(embed_size, hidden_size, vocab_size)\n",
    "decoder.eval()\n",
    "\n",
    "# Load the trained weights.\n",
    "encoder.load_state_dict(torch.load(os.path.join('./models', encoder_file)))\n",
    "decoder.load_state_dict(torch.load(os.path.join('./models', decoder_file)))\n",
    "\n",
    "# Move models to GPU if CUDA is available.\n",
    "encoder.to(device)\n",
    "decoder.to(device)"
   ]
  },
  {
   "cell_type": "code",
   "execution_count": 69,
   "metadata": {},
   "outputs": [],
   "source": [
    "vocab_size = len(data_loader.dataset.vocab)"
   ]
  },
  {
   "cell_type": "code",
   "execution_count": 74,
   "metadata": {},
   "outputs": [],
   "source": [
    "from nltk.translate.bleu_score import sentence_bleu\n",
    "\n",
    "def calculate_bleu(data_loader, num_steps=100):\n",
    "    \n",
    "    score = 0.\n",
    "    \n",
    "    for i in range(num_steps):\n",
    "        image, caption = next(iter(data_loader))\n",
    "        image, caption = image.to(device), caption.cpu().numpy()\n",
    "        out = encoder(images)\n",
    "        pred_cap = decoder.sample(out.unsqueeze(1))\n",
    "        converter = data_loader.dataset.vocab.idx2word\n",
    "        pred_cap = [converter[w] for w in pred_cap][1:-1]\n",
    "        caption = [converter[w] for w in caption.squeeze()][1: -1]\n",
    "\n",
    "        bleu_score = sentence_bleu([caption], pred_cap)\n",
    "        score += bleu_score\n",
    "    \n",
    "    return score/num_steps"
   ]
  },
  {
   "cell_type": "code",
   "execution_count": 75,
   "metadata": {},
   "outputs": [
    {
     "name": "stderr",
     "output_type": "stream",
     "text": [
      "/opt/conda/lib/python3.6/site-packages/nltk/translate/bleu_score.py:490: UserWarning: \n",
      "Corpus/Sentence contains 0 counts of 2-gram overlaps.\n",
      "BLEU scores might be undesirable; use SmoothingFunction().\n",
      "  warnings.warn(_msg)\n"
     ]
    },
    {
     "name": "stdout",
     "output_type": "stream",
     "text": [
      "BLEU Score:  0.7071067811865526\n"
     ]
    }
   ],
   "source": [
    "score = calculate_bleu(data_loader, num_steps=1000)\n",
    "print(\"BLEU Score: \", score)"
   ]
  },
  {
   "cell_type": "code",
   "execution_count": null,
   "metadata": {},
   "outputs": [],
   "source": []
  }
 ],
 "metadata": {
  "anaconda-cloud": {},
  "kernelspec": {
   "display_name": "Python 3",
   "language": "python",
   "name": "python3"
  },
  "language_info": {
   "codemirror_mode": {
    "name": "ipython",
    "version": 3
   },
   "file_extension": ".py",
   "mimetype": "text/x-python",
   "name": "python",
   "nbconvert_exporter": "python",
   "pygments_lexer": "ipython3",
   "version": "3.6.3"
  }
 },
 "nbformat": 4,
 "nbformat_minor": 2
}
